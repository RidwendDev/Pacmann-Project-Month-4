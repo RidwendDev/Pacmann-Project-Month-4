{
 "cells": [
  {
   "cell_type": "code",
   "execution_count": 1,
   "metadata": {},
   "outputs": [],
   "source": [
    "import pandas as pd\n",
    "import numpy as np\n",
    "import seaborn as sns\n",
    "import matplotlib.pyplot as plt\n",
    "import scipy.stats as stats"
   ]
  },
  {
   "cell_type": "code",
   "execution_count": 2,
   "metadata": {},
   "outputs": [],
   "source": [
    "jun = pd.read_csv(r'D:\\projectanPacmann\\data vaksin jkt\\juni.csv')\n",
    "jul = pd.read_csv(r'D:\\projectanPacmann\\data vaksin jkt\\juli.csv')\n",
    "agu = pd.read_csv(r'D:\\projectanPacmann\\data vaksin jkt\\agustus.csv')\n",
    "sep = pd.read_csv(r'D:\\projectanPacmann\\data vaksin jkt\\september.csv')\n",
    "okt = pd.read_csv(r'D:\\projectanPacmann\\data vaksin jkt\\oktober.csv')"
   ]
  },
  {
   "cell_type": "code",
   "execution_count": 3,
   "metadata": {},
   "outputs": [
    {
     "data": {
      "text/html": [
       "<div>\n",
       "<style scoped>\n",
       "    .dataframe tbody tr th:only-of-type {\n",
       "        vertical-align: middle;\n",
       "    }\n",
       "\n",
       "    .dataframe tbody tr th {\n",
       "        vertical-align: top;\n",
       "    }\n",
       "\n",
       "    .dataframe thead th {\n",
       "        text-align: right;\n",
       "    }\n",
       "</style>\n",
       "<table border=\"1\" class=\"dataframe\">\n",
       "  <thead>\n",
       "    <tr style=\"text-align: right;\">\n",
       "      <th></th>\n",
       "      <th>tanggal</th>\n",
       "      <th>kode_kelurahan</th>\n",
       "      <th>wilayah_kota</th>\n",
       "      <th>kecamatan</th>\n",
       "      <th>kelurahan</th>\n",
       "      <th>penerima_vaksinasi</th>\n",
       "      <th>dosis</th>\n",
       "      <th>jumlah_vaksin</th>\n",
       "    </tr>\n",
       "  </thead>\n",
       "  <tbody>\n",
       "    <tr>\n",
       "      <th>0</th>\n",
       "      <td>2021-06-20</td>\n",
       "      <td>3171071002</td>\n",
       "      <td>JAKARTA PUSAT</td>\n",
       "      <td>TANAH ABANG</td>\n",
       "      <td>BENDUNGAN HILIR</td>\n",
       "      <td>LANSIA</td>\n",
       "      <td>Dosis 1</td>\n",
       "      <td>1554</td>\n",
       "    </tr>\n",
       "    <tr>\n",
       "      <th>1</th>\n",
       "      <td>2021-06-20</td>\n",
       "      <td>3171041006</td>\n",
       "      <td>JAKARTA PUSAT</td>\n",
       "      <td>SENEN</td>\n",
       "      <td>BUNGUR</td>\n",
       "      <td>LANSIA</td>\n",
       "      <td>Dosis 1</td>\n",
       "      <td>1249</td>\n",
       "    </tr>\n",
       "    <tr>\n",
       "      <th>2</th>\n",
       "      <td>2021-06-20</td>\n",
       "      <td>3171031006</td>\n",
       "      <td>JAKARTA PUSAT</td>\n",
       "      <td>KEMAYORAN</td>\n",
       "      <td>CEMPAKA BARU</td>\n",
       "      <td>LANSIA</td>\n",
       "      <td>Dosis 1</td>\n",
       "      <td>1533</td>\n",
       "    </tr>\n",
       "    <tr>\n",
       "      <th>3</th>\n",
       "      <td>2021-06-20</td>\n",
       "      <td>3171051002</td>\n",
       "      <td>JAKARTA PUSAT</td>\n",
       "      <td>CEMPAKA PUTIH</td>\n",
       "      <td>CEMPAKA PUTIH BARAT</td>\n",
       "      <td>LANSIA</td>\n",
       "      <td>Dosis 1</td>\n",
       "      <td>1947</td>\n",
       "    </tr>\n",
       "    <tr>\n",
       "      <th>4</th>\n",
       "      <td>2021-06-20</td>\n",
       "      <td>3171051001</td>\n",
       "      <td>JAKARTA PUSAT</td>\n",
       "      <td>CEMPAKA PUTIH</td>\n",
       "      <td>CEMPAKA PUTIH TIMUR</td>\n",
       "      <td>LANSIA</td>\n",
       "      <td>Dosis 1</td>\n",
       "      <td>1877</td>\n",
       "    </tr>\n",
       "  </tbody>\n",
       "</table>\n",
       "</div>"
      ],
      "text/plain": [
       "      tanggal  kode_kelurahan   wilayah_kota      kecamatan  \\\n",
       "0  2021-06-20      3171071002  JAKARTA PUSAT    TANAH ABANG   \n",
       "1  2021-06-20      3171041006  JAKARTA PUSAT          SENEN   \n",
       "2  2021-06-20      3171031006  JAKARTA PUSAT      KEMAYORAN   \n",
       "3  2021-06-20      3171051002  JAKARTA PUSAT  CEMPAKA PUTIH   \n",
       "4  2021-06-20      3171051001  JAKARTA PUSAT  CEMPAKA PUTIH   \n",
       "\n",
       "             kelurahan penerima_vaksinasi    dosis  jumlah_vaksin  \n",
       "0      BENDUNGAN HILIR             LANSIA  Dosis 1           1554  \n",
       "1               BUNGUR             LANSIA  Dosis 1           1249  \n",
       "2         CEMPAKA BARU             LANSIA  Dosis 1           1533  \n",
       "3  CEMPAKA PUTIH BARAT             LANSIA  Dosis 1           1947  \n",
       "4  CEMPAKA PUTIH TIMUR             LANSIA  Dosis 1           1877  "
      ]
     },
     "execution_count": 3,
     "metadata": {},
     "output_type": "execute_result"
    }
   ],
   "source": [
    "jun.head()"
   ]
  },
  {
   "cell_type": "code",
   "execution_count": 4,
   "metadata": {},
   "outputs": [
    {
     "data": {
      "text/html": [
       "<div>\n",
       "<style scoped>\n",
       "    .dataframe tbody tr th:only-of-type {\n",
       "        vertical-align: middle;\n",
       "    }\n",
       "\n",
       "    .dataframe tbody tr th {\n",
       "        vertical-align: top;\n",
       "    }\n",
       "\n",
       "    .dataframe thead th {\n",
       "        text-align: right;\n",
       "    }\n",
       "</style>\n",
       "<table border=\"1\" class=\"dataframe\">\n",
       "  <thead>\n",
       "    <tr style=\"text-align: right;\">\n",
       "      <th></th>\n",
       "      <th>tanggal</th>\n",
       "      <th>kode_kelurahan</th>\n",
       "      <th>wilayah_kota</th>\n",
       "      <th>kecamatan</th>\n",
       "      <th>kelurahan</th>\n",
       "      <th>penerima_vaksinasi</th>\n",
       "      <th>dosis</th>\n",
       "      <th>jumlah_vaksin</th>\n",
       "      <th>kode kelurahan</th>\n",
       "      <th>wilayah kota</th>\n",
       "      <th>penerima_vaksin</th>\n",
       "    </tr>\n",
       "  </thead>\n",
       "  <tbody>\n",
       "    <tr>\n",
       "      <th>12572</th>\n",
       "      <td>2021-09-20</td>\n",
       "      <td>NaN</td>\n",
       "      <td>NaN</td>\n",
       "      <td>GAMBIR</td>\n",
       "      <td>CIDENG</td>\n",
       "      <td>LANSIA</td>\n",
       "      <td>Dosis 2</td>\n",
       "      <td>1648</td>\n",
       "      <td>3.171011e+09</td>\n",
       "      <td>JAKARTA PUSAT</td>\n",
       "      <td>NaN</td>\n",
       "    </tr>\n",
       "    <tr>\n",
       "      <th>4919</th>\n",
       "      <td>2021-10-19</td>\n",
       "      <td>NaN</td>\n",
       "      <td>NaN</td>\n",
       "      <td>MATRAMAN</td>\n",
       "      <td>KEBON MANGGIS</td>\n",
       "      <td>LANSIA</td>\n",
       "      <td>Dosis 1</td>\n",
       "      <td>1380</td>\n",
       "      <td>3.175011e+09</td>\n",
       "      <td>JAKARTA TIMUR</td>\n",
       "      <td>NaN</td>\n",
       "    </tr>\n",
       "    <tr>\n",
       "      <th>6183</th>\n",
       "      <td>2021-08-12</td>\n",
       "      <td>NaN</td>\n",
       "      <td>NaN</td>\n",
       "      <td>JATINEGARA</td>\n",
       "      <td>CIPINANG MUARA</td>\n",
       "      <td>NaN</td>\n",
       "      <td>Dosis 2</td>\n",
       "      <td>2741</td>\n",
       "      <td>3.175031e+09</td>\n",
       "      <td>JAKARTA TIMUR</td>\n",
       "      <td>LANSIA</td>\n",
       "    </tr>\n",
       "    <tr>\n",
       "      <th>3358</th>\n",
       "      <td>2021-08-07</td>\n",
       "      <td>NaN</td>\n",
       "      <td>NaN</td>\n",
       "      <td>CILINCING</td>\n",
       "      <td>MARUNDA</td>\n",
       "      <td>NaN</td>\n",
       "      <td>Dosis 1</td>\n",
       "      <td>1157</td>\n",
       "      <td>3.172041e+09</td>\n",
       "      <td>JAKARTA UTARA</td>\n",
       "      <td>LANSIA</td>\n",
       "    </tr>\n",
       "    <tr>\n",
       "      <th>14124</th>\n",
       "      <td>2021-07-04</td>\n",
       "      <td>3.175101e+09</td>\n",
       "      <td>JAKARTA TIMUR</td>\n",
       "      <td>CIPAYUNG</td>\n",
       "      <td>LUBANG BUAYA</td>\n",
       "      <td>LANSIA</td>\n",
       "      <td>Dosis 2</td>\n",
       "      <td>2753</td>\n",
       "      <td>NaN</td>\n",
       "      <td>NaN</td>\n",
       "      <td>NaN</td>\n",
       "    </tr>\n",
       "    <tr>\n",
       "      <th>9612</th>\n",
       "      <td>2021-08-19</td>\n",
       "      <td>NaN</td>\n",
       "      <td>NaN</td>\n",
       "      <td>PADEMANGAN</td>\n",
       "      <td>ANCOL</td>\n",
       "      <td>NaN</td>\n",
       "      <td>Dosis 1</td>\n",
       "      <td>1284</td>\n",
       "      <td>3.172051e+09</td>\n",
       "      <td>JAKARTA UTARA</td>\n",
       "      <td>LANSIA</td>\n",
       "    </tr>\n",
       "    <tr>\n",
       "      <th>889</th>\n",
       "      <td>2021-07-22</td>\n",
       "      <td>3.171011e+09</td>\n",
       "      <td>JAKARTA PUSAT</td>\n",
       "      <td>GAMBIR</td>\n",
       "      <td>GAMBIR</td>\n",
       "      <td>LANSIA</td>\n",
       "      <td>Dosis 1</td>\n",
       "      <td>182</td>\n",
       "      <td>NaN</td>\n",
       "      <td>NaN</td>\n",
       "      <td>NaN</td>\n",
       "    </tr>\n",
       "    <tr>\n",
       "      <th>12525</th>\n",
       "      <td>2021-07-10</td>\n",
       "      <td>3.174031e+09</td>\n",
       "      <td>JAKARTA SELATAN</td>\n",
       "      <td>MAMPANG PRAPATAN</td>\n",
       "      <td>BANGKA</td>\n",
       "      <td>LANSIA</td>\n",
       "      <td>Dosis 2</td>\n",
       "      <td>973</td>\n",
       "      <td>NaN</td>\n",
       "      <td>NaN</td>\n",
       "      <td>NaN</td>\n",
       "    </tr>\n",
       "  </tbody>\n",
       "</table>\n",
       "</div>"
      ],
      "text/plain": [
       "          tanggal  kode_kelurahan     wilayah_kota         kecamatan  \\\n",
       "12572  2021-09-20             NaN              NaN            GAMBIR   \n",
       "4919   2021-10-19             NaN              NaN          MATRAMAN   \n",
       "6183   2021-08-12             NaN              NaN        JATINEGARA   \n",
       "3358   2021-08-07             NaN              NaN         CILINCING   \n",
       "14124  2021-07-04    3.175101e+09    JAKARTA TIMUR          CIPAYUNG   \n",
       "9612   2021-08-19             NaN              NaN        PADEMANGAN   \n",
       "889    2021-07-22    3.171011e+09    JAKARTA PUSAT            GAMBIR   \n",
       "12525  2021-07-10    3.174031e+09  JAKARTA SELATAN  MAMPANG PRAPATAN   \n",
       "\n",
       "            kelurahan penerima_vaksinasi    dosis  jumlah_vaksin  \\\n",
       "12572          CIDENG             LANSIA  Dosis 2           1648   \n",
       "4919    KEBON MANGGIS             LANSIA  Dosis 1           1380   \n",
       "6183   CIPINANG MUARA                NaN  Dosis 2           2741   \n",
       "3358          MARUNDA                NaN  Dosis 1           1157   \n",
       "14124    LUBANG BUAYA             LANSIA  Dosis 2           2753   \n",
       "9612            ANCOL                NaN  Dosis 1           1284   \n",
       "889            GAMBIR             LANSIA  Dosis 1            182   \n",
       "12525          BANGKA             LANSIA  Dosis 2            973   \n",
       "\n",
       "       kode kelurahan   wilayah kota penerima_vaksin  \n",
       "12572    3.171011e+09  JAKARTA PUSAT             NaN  \n",
       "4919     3.175011e+09  JAKARTA TIMUR             NaN  \n",
       "6183     3.175031e+09  JAKARTA TIMUR          LANSIA  \n",
       "3358     3.172041e+09  JAKARTA UTARA          LANSIA  \n",
       "14124             NaN            NaN             NaN  \n",
       "9612     3.172051e+09  JAKARTA UTARA          LANSIA  \n",
       "889               NaN            NaN             NaN  \n",
       "12525             NaN            NaN             NaN  "
      ]
     },
     "execution_count": 4,
     "metadata": {},
     "output_type": "execute_result"
    }
   ],
   "source": [
    "all_data = pd.concat([jun, jul, agu, sep, okt])\n",
    "all_data.sample(8)"
   ]
  },
  {
   "cell_type": "code",
   "execution_count": 5,
   "metadata": {},
   "outputs": [
    {
     "data": {
      "text/plain": [
       "tanggal                   0\n",
       "kode_kelurahan        47526\n",
       "wilayah_kota          47526\n",
       "kecamatan                 0\n",
       "kelurahan                 0\n",
       "penerima_vaksinasi    15486\n",
       "dosis                     0\n",
       "jumlah_vaksin             0\n",
       "kode kelurahan        21894\n",
       "wilayah kota          21894\n",
       "penerima_vaksin       53934\n",
       "dtype: int64"
      ]
     },
     "execution_count": 5,
     "metadata": {},
     "output_type": "execute_result"
    }
   ],
   "source": [
    "all_data.isna().sum()"
   ]
  },
  {
   "cell_type": "code",
   "execution_count": 6,
   "metadata": {},
   "outputs": [
    {
     "data": {
      "text/plain": [
       "69420"
      ]
     },
     "execution_count": 6,
     "metadata": {},
     "output_type": "execute_result"
    }
   ],
   "source": [
    "all_data.shape[0]"
   ]
  },
  {
   "cell_type": "code",
   "execution_count": 7,
   "metadata": {},
   "outputs": [],
   "source": [
    "c_data = all_data.drop(columns=['kode_kelurahan','wilayah_kota','penerima_vaksin','kode_kelurahan','dosis','wilayah kota'])"
   ]
  },
  {
   "cell_type": "code",
   "execution_count": 8,
   "metadata": {},
   "outputs": [
    {
     "data": {
      "text/html": [
       "<div>\n",
       "<style scoped>\n",
       "    .dataframe tbody tr th:only-of-type {\n",
       "        vertical-align: middle;\n",
       "    }\n",
       "\n",
       "    .dataframe tbody tr th {\n",
       "        vertical-align: top;\n",
       "    }\n",
       "\n",
       "    .dataframe thead th {\n",
       "        text-align: right;\n",
       "    }\n",
       "</style>\n",
       "<table border=\"1\" class=\"dataframe\">\n",
       "  <thead>\n",
       "    <tr style=\"text-align: right;\">\n",
       "      <th></th>\n",
       "      <th>tanggal</th>\n",
       "      <th>kecamatan</th>\n",
       "      <th>kelurahan</th>\n",
       "      <th>penerima_vaksinasi</th>\n",
       "      <th>jumlah_vaksin</th>\n",
       "      <th>kode kelurahan</th>\n",
       "    </tr>\n",
       "  </thead>\n",
       "  <tbody>\n",
       "    <tr>\n",
       "      <th>1463</th>\n",
       "      <td>2021-08-03</td>\n",
       "      <td>SENEN</td>\n",
       "      <td>KENARI</td>\n",
       "      <td>NaN</td>\n",
       "      <td>701</td>\n",
       "      <td>3.171041e+09</td>\n",
       "    </tr>\n",
       "    <tr>\n",
       "      <th>568</th>\n",
       "      <td>2021-06-21</td>\n",
       "      <td>KEMAYORAN</td>\n",
       "      <td>SERDANG</td>\n",
       "      <td>LANSIA</td>\n",
       "      <td>1272</td>\n",
       "      <td>NaN</td>\n",
       "    </tr>\n",
       "    <tr>\n",
       "      <th>3536</th>\n",
       "      <td>2021-06-30</td>\n",
       "      <td>PANCORAN</td>\n",
       "      <td>CIKOKO</td>\n",
       "      <td>LANSIA</td>\n",
       "      <td>696</td>\n",
       "      <td>NaN</td>\n",
       "    </tr>\n",
       "    <tr>\n",
       "      <th>1381</th>\n",
       "      <td>2021-09-06</td>\n",
       "      <td>DUREN SAWIT</td>\n",
       "      <td>DUREN SAWIT</td>\n",
       "      <td>LANSIA</td>\n",
       "      <td>4131</td>\n",
       "      <td>3.175071e+09</td>\n",
       "    </tr>\n",
       "    <tr>\n",
       "      <th>1015</th>\n",
       "      <td>2021-10-04</td>\n",
       "      <td>KOJA</td>\n",
       "      <td>RAWA BADAK UTARA</td>\n",
       "      <td>LANSIA</td>\n",
       "      <td>1736</td>\n",
       "      <td>3.172031e+09</td>\n",
       "    </tr>\n",
       "    <tr>\n",
       "      <th>1568</th>\n",
       "      <td>2021-06-28</td>\n",
       "      <td>PADEMANGAN</td>\n",
       "      <td>PADEMANGAN BARAT</td>\n",
       "      <td>LANSIA</td>\n",
       "      <td>3146</td>\n",
       "      <td>NaN</td>\n",
       "    </tr>\n",
       "    <tr>\n",
       "      <th>7274</th>\n",
       "      <td>2021-07-23</td>\n",
       "      <td>PASAR REBO</td>\n",
       "      <td>KALISARI</td>\n",
       "      <td>LANSIA</td>\n",
       "      <td>2174</td>\n",
       "      <td>NaN</td>\n",
       "    </tr>\n",
       "    <tr>\n",
       "      <th>4795</th>\n",
       "      <td>2021-06-27</td>\n",
       "      <td>PULO GADUNG</td>\n",
       "      <td>JATINEGARA KAUM</td>\n",
       "      <td>LANSIA</td>\n",
       "      <td>1189</td>\n",
       "      <td>NaN</td>\n",
       "    </tr>\n",
       "    <tr>\n",
       "      <th>15596</th>\n",
       "      <td>2021-07-28</td>\n",
       "      <td>JATINEGARA</td>\n",
       "      <td>CIPINANG BESAR SELATAN</td>\n",
       "      <td>LANSIA</td>\n",
       "      <td>1050</td>\n",
       "      <td>NaN</td>\n",
       "    </tr>\n",
       "    <tr>\n",
       "      <th>6579</th>\n",
       "      <td>2021-10-25</td>\n",
       "      <td>SENEN</td>\n",
       "      <td>PASEBAN</td>\n",
       "      <td>LANSIA</td>\n",
       "      <td>1792</td>\n",
       "      <td>3.171041e+09</td>\n",
       "    </tr>\n",
       "  </tbody>\n",
       "</table>\n",
       "</div>"
      ],
      "text/plain": [
       "          tanggal    kecamatan               kelurahan penerima_vaksinasi  \\\n",
       "1463   2021-08-03        SENEN                  KENARI                NaN   \n",
       "568    2021-06-21    KEMAYORAN                 SERDANG             LANSIA   \n",
       "3536   2021-06-30     PANCORAN                  CIKOKO             LANSIA   \n",
       "1381   2021-09-06  DUREN SAWIT             DUREN SAWIT             LANSIA   \n",
       "1015   2021-10-04         KOJA        RAWA BADAK UTARA             LANSIA   \n",
       "1568   2021-06-28   PADEMANGAN        PADEMANGAN BARAT             LANSIA   \n",
       "7274   2021-07-23   PASAR REBO                KALISARI             LANSIA   \n",
       "4795   2021-06-27  PULO GADUNG         JATINEGARA KAUM             LANSIA   \n",
       "15596  2021-07-28   JATINEGARA  CIPINANG BESAR SELATAN             LANSIA   \n",
       "6579   2021-10-25        SENEN                 PASEBAN             LANSIA   \n",
       "\n",
       "       jumlah_vaksin  kode kelurahan  \n",
       "1463             701    3.171041e+09  \n",
       "568             1272             NaN  \n",
       "3536             696             NaN  \n",
       "1381            4131    3.175071e+09  \n",
       "1015            1736    3.172031e+09  \n",
       "1568            3146             NaN  \n",
       "7274            2174             NaN  \n",
       "4795            1189             NaN  \n",
       "15596           1050             NaN  \n",
       "6579            1792    3.171041e+09  "
      ]
     },
     "execution_count": 8,
     "metadata": {},
     "output_type": "execute_result"
    }
   ],
   "source": [
    "c_data.sample(10)"
   ]
  },
  {
   "cell_type": "code",
   "execution_count": 9,
   "metadata": {},
   "outputs": [],
   "source": [
    "c_data = c_data.dropna(axis=0)"
   ]
  },
  {
   "cell_type": "code",
   "execution_count": 10,
   "metadata": {},
   "outputs": [
    {
     "data": {
      "text/plain": [
       "tanggal               0\n",
       "kecamatan             0\n",
       "kelurahan             0\n",
       "penerima_vaksinasi    0\n",
       "jumlah_vaksin         0\n",
       "kode kelurahan        0\n",
       "dtype: int64"
      ]
     },
     "execution_count": 10,
     "metadata": {},
     "output_type": "execute_result"
    }
   ],
   "source": [
    "c_data.isna().sum()"
   ]
  },
  {
   "cell_type": "code",
   "execution_count": 11,
   "metadata": {},
   "outputs": [
    {
     "data": {
      "text/html": [
       "<div>\n",
       "<style scoped>\n",
       "    .dataframe tbody tr th:only-of-type {\n",
       "        vertical-align: middle;\n",
       "    }\n",
       "\n",
       "    .dataframe tbody tr th {\n",
       "        vertical-align: top;\n",
       "    }\n",
       "\n",
       "    .dataframe thead th {\n",
       "        text-align: right;\n",
       "    }\n",
       "</style>\n",
       "<table border=\"1\" class=\"dataframe\">\n",
       "  <thead>\n",
       "    <tr style=\"text-align: right;\">\n",
       "      <th></th>\n",
       "      <th>tanggal</th>\n",
       "      <th>kecamatan</th>\n",
       "      <th>kelurahan</th>\n",
       "      <th>penerima_vaksinasi</th>\n",
       "      <th>jumlah_vaksin</th>\n",
       "      <th>kode kelurahan</th>\n",
       "    </tr>\n",
       "  </thead>\n",
       "  <tbody>\n",
       "    <tr>\n",
       "      <th>0</th>\n",
       "      <td>2021-09-01</td>\n",
       "      <td>PADEMANGAN</td>\n",
       "      <td>ANCOL</td>\n",
       "      <td>LANSIA</td>\n",
       "      <td>1301</td>\n",
       "      <td>3.172051e+09</td>\n",
       "    </tr>\n",
       "    <tr>\n",
       "      <th>1</th>\n",
       "      <td>2021-09-01</td>\n",
       "      <td>TAMBORA</td>\n",
       "      <td>ANGKE</td>\n",
       "      <td>LANSIA</td>\n",
       "      <td>2107</td>\n",
       "      <td>3.173041e+09</td>\n",
       "    </tr>\n",
       "    <tr>\n",
       "      <th>2</th>\n",
       "      <td>2021-09-01</td>\n",
       "      <td>KRAMAT JATI</td>\n",
       "      <td>BALE KAMBANG</td>\n",
       "      <td>LANSIA</td>\n",
       "      <td>1047</td>\n",
       "      <td>3.175041e+09</td>\n",
       "    </tr>\n",
       "    <tr>\n",
       "      <th>3</th>\n",
       "      <td>2021-09-01</td>\n",
       "      <td>JATINEGARA</td>\n",
       "      <td>BALI MESTER</td>\n",
       "      <td>LANSIA</td>\n",
       "      <td>914</td>\n",
       "      <td>3.175031e+09</td>\n",
       "    </tr>\n",
       "    <tr>\n",
       "      <th>4</th>\n",
       "      <td>2021-09-01</td>\n",
       "      <td>CIPAYUNG</td>\n",
       "      <td>BAMBU APUS</td>\n",
       "      <td>LANSIA</td>\n",
       "      <td>1440</td>\n",
       "      <td>3.175101e+09</td>\n",
       "    </tr>\n",
       "  </tbody>\n",
       "</table>\n",
       "</div>"
      ],
      "text/plain": [
       "      tanggal    kecamatan     kelurahan penerima_vaksinasi  jumlah_vaksin  \\\n",
       "0  2021-09-01   PADEMANGAN         ANCOL             LANSIA           1301   \n",
       "1  2021-09-01      TAMBORA         ANGKE             LANSIA           2107   \n",
       "2  2021-09-01  KRAMAT JATI  BALE KAMBANG             LANSIA           1047   \n",
       "3  2021-09-01   JATINEGARA   BALI MESTER             LANSIA            914   \n",
       "4  2021-09-01     CIPAYUNG    BAMBU APUS             LANSIA           1440   \n",
       "\n",
       "   kode kelurahan  \n",
       "0    3.172051e+09  \n",
       "1    3.173041e+09  \n",
       "2    3.175041e+09  \n",
       "3    3.175031e+09  \n",
       "4    3.175101e+09  "
      ]
     },
     "execution_count": 11,
     "metadata": {},
     "output_type": "execute_result"
    }
   ],
   "source": [
    "c_data.head()"
   ]
  },
  {
   "cell_type": "code",
   "execution_count": 12,
   "metadata": {},
   "outputs": [
    {
     "data": {
      "text/plain": [
       "tanggal                object\n",
       "kecamatan              object\n",
       "kelurahan              object\n",
       "penerima_vaksinasi     object\n",
       "jumlah_vaksin           int64\n",
       "kode kelurahan        float64\n",
       "dtype: object"
      ]
     },
     "execution_count": 12,
     "metadata": {},
     "output_type": "execute_result"
    }
   ],
   "source": [
    "c_data.dtypes"
   ]
  },
  {
   "cell_type": "code",
   "execution_count": 13,
   "metadata": {},
   "outputs": [
    {
     "data": {
      "text/plain": [
       "7305"
      ]
     },
     "execution_count": 13,
     "metadata": {},
     "output_type": "execute_result"
    }
   ],
   "source": [
    "c_data.jumlah_vaksin.max()"
   ]
  },
  {
   "cell_type": "code",
   "execution_count": 14,
   "metadata": {},
   "outputs": [
    {
     "name": "stdout",
     "output_type": "stream",
     "text": [
      "Kelurahan dengan jumlah vaksin maksimum: 7137    PLUIT\n",
      "7137    PLUIT\n",
      "Name: kelurahan, dtype: object\n"
     ]
    }
   ],
   "source": [
    "# Mencari indeks baris dengan nilai maksimum di kolom 'jumlah_vaksin'\n",
    "max_index = c_data['jumlah_vaksin'].idxmax()\n",
    "\n",
    "# Mengakses nilai kecamatan yang sesuai\n",
    "max_kelurahan = c_data.loc[max_index, 'kelurahan']\n",
    "\n",
    "print(\"Kelurahan dengan jumlah vaksin maksimum:\", max_kelurahan)"
   ]
  },
  {
   "cell_type": "code",
   "execution_count": 15,
   "metadata": {},
   "outputs": [
    {
     "data": {
      "text/plain": [
       "13791    2021-09-24\n",
       "1872     2021-09-08\n",
       "11773    2021-09-17\n",
       "2236     2021-09-09\n",
       "2810     2021-10-11\n",
       "13049    2021-10-18\n",
       "1801     2021-09-07\n",
       "14742    2021-10-25\n",
       "10568    2021-10-09\n",
       "9064     2021-09-05\n",
       "Name: tanggal, dtype: object"
      ]
     },
     "execution_count": 15,
     "metadata": {},
     "output_type": "execute_result"
    }
   ],
   "source": [
    "c_data.tanggal.sample(10)"
   ]
  },
  {
   "cell_type": "code",
   "execution_count": 16,
   "metadata": {},
   "outputs": [],
   "source": [
    "# Konversi kolom 'tanggal' ke format datetime\n",
    "c_data['tanggal'] = pd.to_datetime(c_data['tanggal'])"
   ]
  },
  {
   "cell_type": "code",
   "execution_count": 17,
   "metadata": {},
   "outputs": [
    {
     "data": {
      "text/plain": [
       "0       2021-09-01\n",
       "1       2021-09-01\n",
       "2       2021-09-01\n",
       "3       2021-09-01\n",
       "4       2021-09-01\n",
       "           ...    \n",
       "16549   2021-10-31\n",
       "16550   2021-10-31\n",
       "16551   2021-10-31\n",
       "16552   2021-10-31\n",
       "16553   2021-10-31\n",
       "Name: tanggal, Length: 32040, dtype: datetime64[ns]"
      ]
     },
     "execution_count": 17,
     "metadata": {},
     "output_type": "execute_result"
    }
   ],
   "source": [
    "c_data.tanggal"
   ]
  },
  {
   "cell_type": "code",
   "execution_count": 18,
   "metadata": {},
   "outputs": [
    {
     "data": {
      "text/html": [
       "<div>\n",
       "<style scoped>\n",
       "    .dataframe tbody tr th:only-of-type {\n",
       "        vertical-align: middle;\n",
       "    }\n",
       "\n",
       "    .dataframe tbody tr th {\n",
       "        vertical-align: top;\n",
       "    }\n",
       "\n",
       "    .dataframe thead th {\n",
       "        text-align: right;\n",
       "    }\n",
       "</style>\n",
       "<table border=\"1\" class=\"dataframe\">\n",
       "  <thead>\n",
       "    <tr style=\"text-align: right;\">\n",
       "      <th></th>\n",
       "      <th>tanggal</th>\n",
       "      <th>kecamatan</th>\n",
       "      <th>kelurahan</th>\n",
       "      <th>penerima_vaksinasi</th>\n",
       "      <th>jumlah_vaksin</th>\n",
       "      <th>kode kelurahan</th>\n",
       "      <th>bulan</th>\n",
       "      <th>hari</th>\n",
       "    </tr>\n",
       "  </thead>\n",
       "  <tbody>\n",
       "    <tr>\n",
       "      <th>16194</th>\n",
       "      <td>2021-10-30</td>\n",
       "      <td>KELAPA GADING</td>\n",
       "      <td>PEGANGSAAN DUA</td>\n",
       "      <td>LANSIA</td>\n",
       "      <td>5132</td>\n",
       "      <td>3.172061e+09</td>\n",
       "      <td>10</td>\n",
       "      <td>30</td>\n",
       "    </tr>\n",
       "    <tr>\n",
       "      <th>15911</th>\n",
       "      <td>2021-10-29</td>\n",
       "      <td>TEBET</td>\n",
       "      <td>MENTENG DALAM</td>\n",
       "      <td>LANSIA</td>\n",
       "      <td>2002</td>\n",
       "      <td>3.174011e+09</td>\n",
       "      <td>10</td>\n",
       "      <td>29</td>\n",
       "    </tr>\n",
       "    <tr>\n",
       "      <th>13688</th>\n",
       "      <td>2021-09-24</td>\n",
       "      <td>PULO GADUNG</td>\n",
       "      <td>JATI</td>\n",
       "      <td>LANSIA</td>\n",
       "      <td>2692</td>\n",
       "      <td>3.175021e+09</td>\n",
       "      <td>9</td>\n",
       "      <td>24</td>\n",
       "    </tr>\n",
       "    <tr>\n",
       "      <th>8060</th>\n",
       "      <td>2021-10-31</td>\n",
       "      <td>GAMBIR</td>\n",
       "      <td>DURI PULO</td>\n",
       "      <td>LANSIA</td>\n",
       "      <td>1521</td>\n",
       "      <td>3.171011e+09</td>\n",
       "      <td>10</td>\n",
       "      <td>31</td>\n",
       "    </tr>\n",
       "  </tbody>\n",
       "</table>\n",
       "</div>"
      ],
      "text/plain": [
       "         tanggal      kecamatan       kelurahan penerima_vaksinasi  \\\n",
       "16194 2021-10-30  KELAPA GADING  PEGANGSAAN DUA             LANSIA   \n",
       "15911 2021-10-29          TEBET   MENTENG DALAM             LANSIA   \n",
       "13688 2021-09-24    PULO GADUNG            JATI             LANSIA   \n",
       "8060  2021-10-31         GAMBIR       DURI PULO             LANSIA   \n",
       "\n",
       "       jumlah_vaksin  kode kelurahan  bulan  hari  \n",
       "16194           5132    3.172061e+09     10    30  \n",
       "15911           2002    3.174011e+09     10    29  \n",
       "13688           2692    3.175021e+09      9    24  \n",
       "8060            1521    3.171011e+09     10    31  "
      ]
     },
     "execution_count": 18,
     "metadata": {},
     "output_type": "execute_result"
    }
   ],
   "source": [
    "# Ambil bulan dan hari dari kolom 'tanggal'\n",
    "c_data['bulan'] =c_data['tanggal'].dt.month\n",
    "c_data['hari'] = c_data['tanggal'].dt.day\n",
    "\n",
    "# Hasilnya adalah DataFrame dengan kolom 'bulan' dan 'hari'\n",
    "c_data.sample(4)"
   ]
  },
  {
   "cell_type": "code",
   "execution_count": 19,
   "metadata": {},
   "outputs": [],
   "source": [
    "final_data = c_data.drop(columns='kode kelurahan')"
   ]
  },
  {
   "cell_type": "markdown",
   "metadata": {},
   "source": [
    "# Final data"
   ]
  },
  {
   "cell_type": "code",
   "execution_count": 20,
   "metadata": {},
   "outputs": [
    {
     "data": {
      "text/html": [
       "<div>\n",
       "<style scoped>\n",
       "    .dataframe tbody tr th:only-of-type {\n",
       "        vertical-align: middle;\n",
       "    }\n",
       "\n",
       "    .dataframe tbody tr th {\n",
       "        vertical-align: top;\n",
       "    }\n",
       "\n",
       "    .dataframe thead th {\n",
       "        text-align: right;\n",
       "    }\n",
       "</style>\n",
       "<table border=\"1\" class=\"dataframe\">\n",
       "  <thead>\n",
       "    <tr style=\"text-align: right;\">\n",
       "      <th></th>\n",
       "      <th>tanggal</th>\n",
       "      <th>kecamatan</th>\n",
       "      <th>kelurahan</th>\n",
       "      <th>penerima_vaksinasi</th>\n",
       "      <th>jumlah_vaksin</th>\n",
       "      <th>bulan</th>\n",
       "      <th>hari</th>\n",
       "    </tr>\n",
       "  </thead>\n",
       "  <tbody>\n",
       "    <tr>\n",
       "      <th>0</th>\n",
       "      <td>2021-09-01</td>\n",
       "      <td>PADEMANGAN</td>\n",
       "      <td>ANCOL</td>\n",
       "      <td>LANSIA</td>\n",
       "      <td>1301</td>\n",
       "      <td>9</td>\n",
       "      <td>1</td>\n",
       "    </tr>\n",
       "    <tr>\n",
       "      <th>1</th>\n",
       "      <td>2021-09-01</td>\n",
       "      <td>TAMBORA</td>\n",
       "      <td>ANGKE</td>\n",
       "      <td>LANSIA</td>\n",
       "      <td>2107</td>\n",
       "      <td>9</td>\n",
       "      <td>1</td>\n",
       "    </tr>\n",
       "    <tr>\n",
       "      <th>2</th>\n",
       "      <td>2021-09-01</td>\n",
       "      <td>KRAMAT JATI</td>\n",
       "      <td>BALE KAMBANG</td>\n",
       "      <td>LANSIA</td>\n",
       "      <td>1047</td>\n",
       "      <td>9</td>\n",
       "      <td>1</td>\n",
       "    </tr>\n",
       "    <tr>\n",
       "      <th>3</th>\n",
       "      <td>2021-09-01</td>\n",
       "      <td>JATINEGARA</td>\n",
       "      <td>BALI MESTER</td>\n",
       "      <td>LANSIA</td>\n",
       "      <td>914</td>\n",
       "      <td>9</td>\n",
       "      <td>1</td>\n",
       "    </tr>\n",
       "    <tr>\n",
       "      <th>4</th>\n",
       "      <td>2021-09-01</td>\n",
       "      <td>CIPAYUNG</td>\n",
       "      <td>BAMBU APUS</td>\n",
       "      <td>LANSIA</td>\n",
       "      <td>1440</td>\n",
       "      <td>9</td>\n",
       "      <td>1</td>\n",
       "    </tr>\n",
       "    <tr>\n",
       "      <th>...</th>\n",
       "      <td>...</td>\n",
       "      <td>...</td>\n",
       "      <td>...</td>\n",
       "      <td>...</td>\n",
       "      <td>...</td>\n",
       "      <td>...</td>\n",
       "      <td>...</td>\n",
       "    </tr>\n",
       "    <tr>\n",
       "      <th>16549</th>\n",
       "      <td>2021-10-31</td>\n",
       "      <td>MATRAMAN</td>\n",
       "      <td>UTAN KAYU SELATAN</td>\n",
       "      <td>LANSIA</td>\n",
       "      <td>2433</td>\n",
       "      <td>10</td>\n",
       "      <td>31</td>\n",
       "    </tr>\n",
       "    <tr>\n",
       "      <th>16550</th>\n",
       "      <td>2021-10-31</td>\n",
       "      <td>MATRAMAN</td>\n",
       "      <td>UTAN KAYU UTARA</td>\n",
       "      <td>LANSIA</td>\n",
       "      <td>1665</td>\n",
       "      <td>10</td>\n",
       "      <td>31</td>\n",
       "    </tr>\n",
       "    <tr>\n",
       "      <th>16551</th>\n",
       "      <td>2021-10-31</td>\n",
       "      <td>KEMAYORAN</td>\n",
       "      <td>UTAN PANJANG</td>\n",
       "      <td>LANSIA</td>\n",
       "      <td>1441</td>\n",
       "      <td>10</td>\n",
       "      <td>31</td>\n",
       "    </tr>\n",
       "    <tr>\n",
       "      <th>16552</th>\n",
       "      <td>2021-10-31</td>\n",
       "      <td>TANJUNG PRIOK</td>\n",
       "      <td>WARAKAS</td>\n",
       "      <td>LANSIA</td>\n",
       "      <td>2187</td>\n",
       "      <td>10</td>\n",
       "      <td>31</td>\n",
       "    </tr>\n",
       "    <tr>\n",
       "      <th>16553</th>\n",
       "      <td>2021-10-31</td>\n",
       "      <td>GROGOL PETAMBURAN</td>\n",
       "      <td>WIJAYA KUSUMA</td>\n",
       "      <td>LANSIA</td>\n",
       "      <td>2871</td>\n",
       "      <td>10</td>\n",
       "      <td>31</td>\n",
       "    </tr>\n",
       "  </tbody>\n",
       "</table>\n",
       "<p>32040 rows × 7 columns</p>\n",
       "</div>"
      ],
      "text/plain": [
       "         tanggal          kecamatan          kelurahan penerima_vaksinasi  \\\n",
       "0     2021-09-01         PADEMANGAN              ANCOL             LANSIA   \n",
       "1     2021-09-01            TAMBORA              ANGKE             LANSIA   \n",
       "2     2021-09-01        KRAMAT JATI       BALE KAMBANG             LANSIA   \n",
       "3     2021-09-01         JATINEGARA        BALI MESTER             LANSIA   \n",
       "4     2021-09-01           CIPAYUNG         BAMBU APUS             LANSIA   \n",
       "...          ...                ...                ...                ...   \n",
       "16549 2021-10-31           MATRAMAN  UTAN KAYU SELATAN             LANSIA   \n",
       "16550 2021-10-31           MATRAMAN    UTAN KAYU UTARA             LANSIA   \n",
       "16551 2021-10-31          KEMAYORAN       UTAN PANJANG             LANSIA   \n",
       "16552 2021-10-31      TANJUNG PRIOK            WARAKAS             LANSIA   \n",
       "16553 2021-10-31  GROGOL PETAMBURAN      WIJAYA KUSUMA             LANSIA   \n",
       "\n",
       "       jumlah_vaksin  bulan  hari  \n",
       "0               1301      9     1  \n",
       "1               2107      9     1  \n",
       "2               1047      9     1  \n",
       "3                914      9     1  \n",
       "4               1440      9     1  \n",
       "...              ...    ...   ...  \n",
       "16549           2433     10    31  \n",
       "16550           1665     10    31  \n",
       "16551           1441     10    31  \n",
       "16552           2187     10    31  \n",
       "16553           2871     10    31  \n",
       "\n",
       "[32040 rows x 7 columns]"
      ]
     },
     "execution_count": 20,
     "metadata": {},
     "output_type": "execute_result"
    }
   ],
   "source": [
    "final_data"
   ]
  },
  {
   "cell_type": "code",
   "execution_count": 21,
   "metadata": {},
   "outputs": [
    {
     "name": "stdout",
     "output_type": "stream",
     "text": [
      "         tanggal          kecamatan          kelurahan penerima_vaksinasi  \\\n",
      "0     2021-09-01         PADEMANGAN              ANCOL             LANSIA   \n",
      "1     2021-09-01            TAMBORA              ANGKE             LANSIA   \n",
      "2     2021-09-01        KRAMAT JATI       BALE KAMBANG             LANSIA   \n",
      "3     2021-09-01         JATINEGARA        BALI MESTER             LANSIA   \n",
      "4     2021-09-01           CIPAYUNG         BAMBU APUS             LANSIA   \n",
      "...          ...                ...                ...                ...   \n",
      "16549 2021-10-31           MATRAMAN  UTAN KAYU SELATAN             LANSIA   \n",
      "16550 2021-10-31           MATRAMAN    UTAN KAYU UTARA             LANSIA   \n",
      "16551 2021-10-31          KEMAYORAN       UTAN PANJANG             LANSIA   \n",
      "16552 2021-10-31      TANJUNG PRIOK            WARAKAS             LANSIA   \n",
      "16553 2021-10-31  GROGOL PETAMBURAN      WIJAYA KUSUMA             LANSIA   \n",
      "\n",
      "       jumlah_vaksin  bulan  hari  \n",
      "0               1301      9     1  \n",
      "1               2107      9     1  \n",
      "2               1047      9     1  \n",
      "3                914      9     1  \n",
      "4               1440      9     1  \n",
      "...              ...    ...   ...  \n",
      "16549           2433     10    31  \n",
      "16550           1665     10    31  \n",
      "16551           1441     10    31  \n",
      "16552           2187     10    31  \n",
      "16553           2871     10    31  \n",
      "\n",
      "[32040 rows x 7 columns]\n"
     ]
    }
   ],
   "source": [
    "print(final_data)"
   ]
  },
  {
   "cell_type": "code",
   "execution_count": 22,
   "metadata": {},
   "outputs": [
    {
     "data": {
      "text/plain": [
       "array(['PADEMANGAN', 'TAMBORA', 'KRAMAT JATI', 'JATINEGARA', 'CIPAYUNG',\n",
       "       'MAMPANG PRAPATAN', 'PASAR REBO', 'TANAH ABANG', 'PESANGGRAHAN',\n",
       "       'TEBET', 'SENEN', 'CAKUNG', 'KEMAYORAN', 'CEMPAKA PUTIH',\n",
       "       'CENGKARENG', 'CIRACAS', 'GAMBIR', 'JAGAKARSA', 'MENTENG',\n",
       "       'PANCORAN', 'CILANDAK', 'PASAR MINGGU', 'CILINCING',\n",
       "       'KEBAYORAN BARU', 'PULO GADUNG', 'MAKASAR', 'KEBAYORAN LAMA',\n",
       "       'DUREN SAWIT', 'KEBON JERUK', 'JOHAR BARU', 'TAMAN SARI',\n",
       "       'GROGOL PETAMBURAN', 'SETIA BUDI', 'SAWAH BESAR', 'PALMERAH',\n",
       "       'KEMBANGAN', 'KALI DERES', 'PENJARINGAN', 'MATRAMAN',\n",
       "       'TANJUNG PRIOK', 'KELAPA GADING', 'KOJA', 'KEP. SERIBU UTARA',\n",
       "       'KEP. SERIBU SELATAN'], dtype=object)"
      ]
     },
     "execution_count": 22,
     "metadata": {},
     "output_type": "execute_result"
    }
   ],
   "source": [
    "final_data.kecamatan.unique()"
   ]
  },
  {
   "cell_type": "markdown",
   "metadata": {},
   "source": [
    "# Maybe ini fix"
   ]
  },
  {
   "cell_type": "code",
   "execution_count": 23,
   "metadata": {},
   "outputs": [],
   "source": [
    "tebet = final_data[final_data['kecamatan']=='TEBET']"
   ]
  },
  {
   "cell_type": "code",
   "execution_count": 24,
   "metadata": {},
   "outputs": [
    {
     "data": {
      "text/html": [
       "<div>\n",
       "<style scoped>\n",
       "    .dataframe tbody tr th:only-of-type {\n",
       "        vertical-align: middle;\n",
       "    }\n",
       "\n",
       "    .dataframe tbody tr th {\n",
       "        vertical-align: top;\n",
       "    }\n",
       "\n",
       "    .dataframe thead th {\n",
       "        text-align: right;\n",
       "    }\n",
       "</style>\n",
       "<table border=\"1\" class=\"dataframe\">\n",
       "  <thead>\n",
       "    <tr style=\"text-align: right;\">\n",
       "      <th></th>\n",
       "      <th>tanggal</th>\n",
       "      <th>kecamatan</th>\n",
       "      <th>kelurahan</th>\n",
       "      <th>penerima_vaksinasi</th>\n",
       "      <th>jumlah_vaksin</th>\n",
       "      <th>bulan</th>\n",
       "      <th>hari</th>\n",
       "    </tr>\n",
       "  </thead>\n",
       "  <tbody>\n",
       "    <tr>\n",
       "      <th>11</th>\n",
       "      <td>2021-09-01</td>\n",
       "      <td>TEBET</td>\n",
       "      <td>BUKIT DURI</td>\n",
       "      <td>LANSIA</td>\n",
       "      <td>1968</td>\n",
       "      <td>9</td>\n",
       "      <td>1</td>\n",
       "    </tr>\n",
       "    <tr>\n",
       "      <th>107</th>\n",
       "      <td>2021-09-01</td>\n",
       "      <td>TEBET</td>\n",
       "      <td>KEBON BARU</td>\n",
       "      <td>LANSIA</td>\n",
       "      <td>2401</td>\n",
       "      <td>9</td>\n",
       "      <td>1</td>\n",
       "    </tr>\n",
       "    <tr>\n",
       "      <th>151</th>\n",
       "      <td>2021-09-01</td>\n",
       "      <td>TEBET</td>\n",
       "      <td>MANGGARAI</td>\n",
       "      <td>LANSIA</td>\n",
       "      <td>1776</td>\n",
       "      <td>9</td>\n",
       "      <td>1</td>\n",
       "    </tr>\n",
       "    <tr>\n",
       "      <th>152</th>\n",
       "      <td>2021-09-01</td>\n",
       "      <td>TEBET</td>\n",
       "      <td>MANGGARAI SELATAN</td>\n",
       "      <td>LANSIA</td>\n",
       "      <td>1499</td>\n",
       "      <td>9</td>\n",
       "      <td>1</td>\n",
       "    </tr>\n",
       "    <tr>\n",
       "      <th>158</th>\n",
       "      <td>2021-09-01</td>\n",
       "      <td>TEBET</td>\n",
       "      <td>MENTENG DALAM</td>\n",
       "      <td>LANSIA</td>\n",
       "      <td>1951</td>\n",
       "      <td>9</td>\n",
       "      <td>1</td>\n",
       "    </tr>\n",
       "    <tr>\n",
       "      <th>...</th>\n",
       "      <td>...</td>\n",
       "      <td>...</td>\n",
       "      <td>...</td>\n",
       "      <td>...</td>\n",
       "      <td>...</td>\n",
       "      <td>...</td>\n",
       "      <td>...</td>\n",
       "    </tr>\n",
       "    <tr>\n",
       "      <th>16438</th>\n",
       "      <td>2021-10-31</td>\n",
       "      <td>TEBET</td>\n",
       "      <td>MANGGARAI</td>\n",
       "      <td>LANSIA</td>\n",
       "      <td>1768</td>\n",
       "      <td>10</td>\n",
       "      <td>31</td>\n",
       "    </tr>\n",
       "    <tr>\n",
       "      <th>16439</th>\n",
       "      <td>2021-10-31</td>\n",
       "      <td>TEBET</td>\n",
       "      <td>MANGGARAI SELATAN</td>\n",
       "      <td>LANSIA</td>\n",
       "      <td>1529</td>\n",
       "      <td>10</td>\n",
       "      <td>31</td>\n",
       "    </tr>\n",
       "    <tr>\n",
       "      <th>16445</th>\n",
       "      <td>2021-10-31</td>\n",
       "      <td>TEBET</td>\n",
       "      <td>MENTENG DALAM</td>\n",
       "      <td>LANSIA</td>\n",
       "      <td>2015</td>\n",
       "      <td>10</td>\n",
       "      <td>31</td>\n",
       "    </tr>\n",
       "    <tr>\n",
       "      <th>16540</th>\n",
       "      <td>2021-10-31</td>\n",
       "      <td>TEBET</td>\n",
       "      <td>TEBET BARAT</td>\n",
       "      <td>LANSIA</td>\n",
       "      <td>2009</td>\n",
       "      <td>10</td>\n",
       "      <td>31</td>\n",
       "    </tr>\n",
       "    <tr>\n",
       "      <th>16541</th>\n",
       "      <td>2021-10-31</td>\n",
       "      <td>TEBET</td>\n",
       "      <td>TEBET TIMUR</td>\n",
       "      <td>LANSIA</td>\n",
       "      <td>1794</td>\n",
       "      <td>10</td>\n",
       "      <td>31</td>\n",
       "    </tr>\n",
       "  </tbody>\n",
       "</table>\n",
       "<p>840 rows × 7 columns</p>\n",
       "</div>"
      ],
      "text/plain": [
       "         tanggal kecamatan          kelurahan penerima_vaksinasi  \\\n",
       "11    2021-09-01     TEBET         BUKIT DURI             LANSIA   \n",
       "107   2021-09-01     TEBET         KEBON BARU             LANSIA   \n",
       "151   2021-09-01     TEBET          MANGGARAI             LANSIA   \n",
       "152   2021-09-01     TEBET  MANGGARAI SELATAN             LANSIA   \n",
       "158   2021-09-01     TEBET      MENTENG DALAM             LANSIA   \n",
       "...          ...       ...                ...                ...   \n",
       "16438 2021-10-31     TEBET          MANGGARAI             LANSIA   \n",
       "16439 2021-10-31     TEBET  MANGGARAI SELATAN             LANSIA   \n",
       "16445 2021-10-31     TEBET      MENTENG DALAM             LANSIA   \n",
       "16540 2021-10-31     TEBET        TEBET BARAT             LANSIA   \n",
       "16541 2021-10-31     TEBET        TEBET TIMUR             LANSIA   \n",
       "\n",
       "       jumlah_vaksin  bulan  hari  \n",
       "11              1968      9     1  \n",
       "107             2401      9     1  \n",
       "151             1776      9     1  \n",
       "152             1499      9     1  \n",
       "158             1951      9     1  \n",
       "...              ...    ...   ...  \n",
       "16438           1768     10    31  \n",
       "16439           1529     10    31  \n",
       "16445           2015     10    31  \n",
       "16540           2009     10    31  \n",
       "16541           1794     10    31  \n",
       "\n",
       "[840 rows x 7 columns]"
      ]
     },
     "execution_count": 24,
     "metadata": {},
     "output_type": "execute_result"
    }
   ],
   "source": [
    "tebet"
   ]
  },
  {
   "cell_type": "code",
   "execution_count": 25,
   "metadata": {},
   "outputs": [
    {
     "data": {
      "text/plain": [
       "bulan\n",
       "10    434\n",
       "9     406\n",
       "Name: count, dtype: int64"
      ]
     },
     "execution_count": 25,
     "metadata": {},
     "output_type": "execute_result"
    }
   ],
   "source": [
    "tebet.bulan.value_counts()"
   ]
  },
  {
   "cell_type": "markdown",
   "metadata": {},
   "source": [
    "## Filter data `tebet` hanya bulan oktober"
   ]
  },
  {
   "cell_type": "code",
   "execution_count": 34,
   "metadata": {},
   "outputs": [
    {
     "data": {
      "text/html": [
       "<div>\n",
       "<style scoped>\n",
       "    .dataframe tbody tr th:only-of-type {\n",
       "        vertical-align: middle;\n",
       "    }\n",
       "\n",
       "    .dataframe tbody tr th {\n",
       "        vertical-align: top;\n",
       "    }\n",
       "\n",
       "    .dataframe thead th {\n",
       "        text-align: right;\n",
       "    }\n",
       "</style>\n",
       "<table border=\"1\" class=\"dataframe\">\n",
       "  <thead>\n",
       "    <tr style=\"text-align: right;\">\n",
       "      <th></th>\n",
       "      <th>tanggal</th>\n",
       "      <th>kecamatan</th>\n",
       "      <th>kelurahan</th>\n",
       "      <th>penerima_vaksinasi</th>\n",
       "      <th>jumlah_vaksin</th>\n",
       "      <th>bulan</th>\n",
       "      <th>hari</th>\n",
       "    </tr>\n",
       "  </thead>\n",
       "  <tbody>\n",
       "    <tr>\n",
       "      <th>11</th>\n",
       "      <td>2021-10-01</td>\n",
       "      <td>TEBET</td>\n",
       "      <td>BUKIT DURI</td>\n",
       "      <td>LANSIA</td>\n",
       "      <td>2280</td>\n",
       "      <td>10</td>\n",
       "      <td>1</td>\n",
       "    </tr>\n",
       "    <tr>\n",
       "      <th>107</th>\n",
       "      <td>2021-10-01</td>\n",
       "      <td>TEBET</td>\n",
       "      <td>KEBON BARU</td>\n",
       "      <td>LANSIA</td>\n",
       "      <td>2622</td>\n",
       "      <td>10</td>\n",
       "      <td>1</td>\n",
       "    </tr>\n",
       "    <tr>\n",
       "      <th>151</th>\n",
       "      <td>2021-10-01</td>\n",
       "      <td>TEBET</td>\n",
       "      <td>MANGGARAI</td>\n",
       "      <td>LANSIA</td>\n",
       "      <td>1966</td>\n",
       "      <td>10</td>\n",
       "      <td>1</td>\n",
       "    </tr>\n",
       "    <tr>\n",
       "      <th>152</th>\n",
       "      <td>2021-10-01</td>\n",
       "      <td>TEBET</td>\n",
       "      <td>MANGGARAI SELATAN</td>\n",
       "      <td>LANSIA</td>\n",
       "      <td>1657</td>\n",
       "      <td>10</td>\n",
       "      <td>1</td>\n",
       "    </tr>\n",
       "    <tr>\n",
       "      <th>158</th>\n",
       "      <td>2021-10-01</td>\n",
       "      <td>TEBET</td>\n",
       "      <td>MENTENG DALAM</td>\n",
       "      <td>LANSIA</td>\n",
       "      <td>2201</td>\n",
       "      <td>10</td>\n",
       "      <td>1</td>\n",
       "    </tr>\n",
       "  </tbody>\n",
       "</table>\n",
       "</div>"
      ],
      "text/plain": [
       "       tanggal kecamatan          kelurahan penerima_vaksinasi  jumlah_vaksin  \\\n",
       "11  2021-10-01     TEBET         BUKIT DURI             LANSIA           2280   \n",
       "107 2021-10-01     TEBET         KEBON BARU             LANSIA           2622   \n",
       "151 2021-10-01     TEBET          MANGGARAI             LANSIA           1966   \n",
       "152 2021-10-01     TEBET  MANGGARAI SELATAN             LANSIA           1657   \n",
       "158 2021-10-01     TEBET      MENTENG DALAM             LANSIA           2201   \n",
       "\n",
       "     bulan  hari  \n",
       "11      10     1  \n",
       "107     10     1  \n",
       "151     10     1  \n",
       "152     10     1  \n",
       "158     10     1  "
      ]
     },
     "execution_count": 34,
     "metadata": {},
     "output_type": "execute_result"
    }
   ],
   "source": [
    "# Filter data untuk bulan Oktober\n",
    "tebet_oktober = tebet[tebet['bulan'] == 10]\n",
    "tebet_oktober.head()"
   ]
  },
  {
   "cell_type": "code",
   "execution_count": 33,
   "metadata": {},
   "outputs": [
    {
     "name": "stdout",
     "output_type": "stream",
     "text": [
      "<class 'pandas.core.frame.DataFrame'>\n",
      "Index: 434 entries, 11 to 16541\n",
      "Data columns (total 7 columns):\n",
      " #   Column              Non-Null Count  Dtype         \n",
      "---  ------              --------------  -----         \n",
      " 0   tanggal             434 non-null    datetime64[ns]\n",
      " 1   kecamatan           434 non-null    object        \n",
      " 2   kelurahan           434 non-null    object        \n",
      " 3   penerima_vaksinasi  434 non-null    object        \n",
      " 4   jumlah_vaksin       434 non-null    int64         \n",
      " 5   bulan               434 non-null    int32         \n",
      " 6   hari                434 non-null    int32         \n",
      "dtypes: datetime64[ns](1), int32(2), int64(1), object(3)\n",
      "memory usage: 23.7+ KB\n"
     ]
    }
   ],
   "source": [
    "tebet_oktober.info()"
   ]
  },
  {
   "cell_type": "markdown",
   "metadata": {},
   "source": [
    "### Simple Random Sampling"
   ]
  },
  {
   "cell_type": "code",
   "execution_count": 28,
   "metadata": {},
   "outputs": [],
   "source": [
    "# Ukuran sampel yang ingin diambil (misalnya, 100 elemen)\n",
    "ukuran_sampel = 200\n",
    "\n",
    "# Simple Random Sampling (SRS) dari data Oktober\n",
    "sampel = tebet_oktober.sample(n=ukuran_sampel, random_state=42)"
   ]
  },
  {
   "cell_type": "code",
   "execution_count": 29,
   "metadata": {},
   "outputs": [
    {
     "name": "stdout",
     "output_type": "stream",
     "text": [
      "Rata-rata sampel jumlah penerima vaksin pada bulan Oktober: 2025.80\n"
     ]
    }
   ],
   "source": [
    "rata_rata_sampel = sampel['jumlah_vaksin'].mean()\n",
    "print(f\"Rata-rata sampel jumlah penerima vaksin pada bulan Oktober: {rata_rata_sampel:.2f}\")"
   ]
  },
  {
   "cell_type": "code",
   "execution_count": 30,
   "metadata": {},
   "outputs": [
    {
     "name": "stdout",
     "output_type": "stream",
     "text": [
      "Estimasi variance dari sampel: 96045.03\n"
     ]
    }
   ],
   "source": [
    "variance_estimator = sampel['jumlah_vaksin'].var()\n",
    "print(f\"Estimasi variance dari sampel: {variance_estimator:.2f}\")"
   ]
  },
  {
   "cell_type": "code",
   "execution_count": 31,
   "metadata": {},
   "outputs": [
    {
     "name": "stdout",
     "output_type": "stream",
     "text": [
      "Margin of Error: 42.95\n"
     ]
    }
   ],
   "source": [
    "tingkat_kepercayaan = 0.95\n",
    "z_score = stats.norm.ppf((1 + tingkat_kepercayaan) / 2)\n",
    "margin_of_error = z_score * np.sqrt(variance_estimator / ukuran_sampel)\n",
    "print(f\"Margin of Error: {margin_of_error:.2f}\")D"
   ]
  },
  {
   "cell_type": "code",
   "execution_count": 32,
   "metadata": {},
   "outputs": [
    {
     "name": "stdout",
     "output_type": "stream",
     "text": [
      "Confidence Interval dengan tingkat kepercayaan 0.95: (1982.85, 2068.75)\n"
     ]
    }
   ],
   "source": [
    "confidence_interval = (rata_rata_sampel - margin_of_error, rata_rata_sampel + margin_of_error)\n",
    "print(f\"Confidence Interval dengan tingkat kepercayaan {tingkat_kepercayaan}: ({confidence_interval[0]:.2f}, {confidence_interval[1]:.2f})\")"
   ]
  },
  {
   "cell_type": "code",
   "execution_count": null,
   "metadata": {},
   "outputs": [],
   "source": []
  }
 ],
 "metadata": {
  "kernelspec": {
   "display_name": "env_ridwan_1",
   "language": "python",
   "name": "python3"
  },
  "language_info": {
   "codemirror_mode": {
    "name": "ipython",
    "version": 3
   },
   "file_extension": ".py",
   "mimetype": "text/x-python",
   "name": "python",
   "nbconvert_exporter": "python",
   "pygments_lexer": "ipython3",
   "version": "3.10.13"
  }
 },
 "nbformat": 4,
 "nbformat_minor": 2
}
